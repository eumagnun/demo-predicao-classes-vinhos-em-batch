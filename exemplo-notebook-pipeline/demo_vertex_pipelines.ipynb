{
  "cells": [
    {
      "cell_type": "markdown",
      "metadata": {
        "id": "i7EUnXsZhAGF"
      },
      "source": [
        "# **Instalar dependências**"
      ]
    },
    {
      "cell_type": "code",
      "execution_count": null,
      "metadata": {
        "id": "QTmIIQ8QBfb6"
      },
      "outputs": [],
      "source": [
        "!pip install --upgrade google-cloud-aiplatform\n",
        "!pip install --upgrade google-cloud-storage\n",
        "!pip install --upgrade kfp\n",
        "!pip install --upgrade google-cloud-pipeline-components\n",
        "\n",
        "!python3 -c \"import kfp; print('KFP SDK version: {}'.format(kfp.__version__))\""
      ]
    },
    {
      "cell_type": "markdown",
      "metadata": {
        "id": "58707a750154"
      },
      "source": [
        "### Colab only: Uncomment the following cell to restart the kernel."
      ]
    },
    {
      "cell_type": "code",
      "execution_count": null,
      "metadata": {
        "id": "f200f10a1da3"
      },
      "outputs": [],
      "source": [
        "# Automatically restart kernel after installs so that your environment can access the new packages\n",
        "import IPython\n",
        "\n",
        "app = IPython.Application.instance()\n",
        "app.kernel.do_shutdown(True)"
      ]
    },
    {
      "cell_type": "markdown",
      "source": [],
      "metadata": {
        "id": "HCGZI3Sv6fGU"
      }
    },
    {
      "cell_type": "markdown",
      "metadata": {
        "id": "WReHDGG5g0XY"
      },
      "source": [
        "# **Configurar project ID**\n"
      ]
    },
    {
      "cell_type": "code",
      "execution_count": null,
      "metadata": {
        "id": "oM1iC_MfAts1",
        "colab": {
          "base_uri": "https://localhost:8080/"
        },
        "outputId": "f9f4e34b-2038-4392-8b83-24ff8573805f"
      },
      "outputs": [
        {
          "output_type": "stream",
          "name": "stdout",
          "text": [
            "Updated property [core/project].\n"
          ]
        }
      ],
      "source": [
        "PROJECT_ID = \"teste\"  # @param {type:\"string\"}\n",
        "REGION = \"teste\"  # @param {type: \"string\"}\n",
        "# Set the project id\n",
        "!gcloud config set project {PROJECT_ID}"
      ]
    },
    {
      "cell_type": "markdown",
      "metadata": {
        "id": "timestamp"
      },
      "source": [
        "# **Gerar UUID**\n"
      ]
    },
    {
      "cell_type": "code",
      "execution_count": null,
      "metadata": {
        "id": "MIe7f62gBfb_"
      },
      "outputs": [],
      "source": [
        "import random\n",
        "import string\n",
        "\n",
        "\n",
        "# Generate a uuid of a specifed length(default=8)\n",
        "def generate_uuid(length: int = 8) -> str:\n",
        "    return \"\".join(random.choices(string.ascii_lowercase + string.digits, k=length))\n",
        "\n",
        "#Apenas para garantir unicidade de nomes durante a etapa de testes\n",
        "UUID = generate_uuid()"
      ]
    },
    {
      "cell_type": "markdown",
      "metadata": {
        "id": "gcp_authenticate"
      },
      "source": [
        "# **Autenticar Google Cloud account**\n"
      ]
    },
    {
      "cell_type": "code",
      "execution_count": null,
      "metadata": {
        "id": "ce6043da7b33"
      },
      "outputs": [],
      "source": [
        "# ! gcloud auth login"
      ]
    },
    {
      "cell_type": "markdown",
      "metadata": {
        "id": "0367eac06a10"
      },
      "source": [
        "**3. Colab, uncomment and run:**"
      ]
    },
    {
      "cell_type": "code",
      "execution_count": null,
      "metadata": {
        "id": "21ad4dbb4a61"
      },
      "outputs": [],
      "source": [
        "from google.colab import auth\n",
        "auth.authenticate_user()"
      ]
    },
    {
      "cell_type": "markdown",
      "metadata": {
        "id": "c13224697bfb"
      },
      "source": [
        "**4. Service account or other**\n",
        "* See how to grant Cloud Storage permissions to your service account at https://cloud.google.com/storage/docs/gsutil/commands/iam#ch-examples."
      ]
    },
    {
      "cell_type": "markdown",
      "metadata": {
        "id": "zgPO1eR3CYjk"
      },
      "source": [
        "# **Criar Cloud Storage bucket**\n"
      ]
    },
    {
      "cell_type": "code",
      "execution_count": null,
      "metadata": {
        "id": "MzGDU7TWdts_"
      },
      "outputs": [],
      "source": [
        "BUCKET_URI = f\"gs://demo-pipe-2-{PROJECT_ID}-unique\"  # @param {type:\"string\"}"
      ]
    },
    {
      "cell_type": "markdown",
      "metadata": {
        "id": "create_bucket"
      },
      "source": [
        "**Only if your bucket doesn't already exist**: Run the following cell to create your Cloud Storage bucket."
      ]
    },
    {
      "cell_type": "code",
      "execution_count": null,
      "metadata": {
        "id": "NIq7R4HZCfIc",
        "colab": {
          "base_uri": "https://localhost:8080/"
        },
        "outputId": "0b8f77ac-a554-434e-beb6-77a4a1555d93"
      },
      "outputs": [
        {
          "output_type": "stream",
          "name": "stdout",
          "text": [
            "Creating gs://demo-pipe-2-elite-dreamer-418223-unique/...\n"
          ]
        }
      ],
      "source": [
        "! gsutil mb -l {REGION} -p {PROJECT_ID} {BUCKET_URI}"
      ]
    },
    {
      "cell_type": "markdown",
      "metadata": {
        "id": "set_service_account"
      },
      "source": [
        "# **Definir Service Account**"
      ]
    },
    {
      "cell_type": "code",
      "execution_count": null,
      "metadata": {
        "id": "gL_rp0PIcSx5"
      },
      "outputs": [],
      "source": [
        "SERVICE_ACCOUNT = \"\"  # @param {type:\"string\"}"
      ]
    },
    {
      "cell_type": "code",
      "execution_count": null,
      "metadata": {
        "id": "autoset_service_account"
      },
      "outputs": [],
      "source": [
        "import sys\n",
        "\n",
        "IS_COLAB = \"google.colab\" in sys.modules\n",
        "if (\n",
        "    SERVICE_ACCOUNT == \"\"\n",
        "    or SERVICE_ACCOUNT is None\n",
        "    or SERVICE_ACCOUNT == \"[your-service-account]\"\n",
        "):\n",
        "    # Get your service account from gcloud\n",
        "    if not IS_COLAB:\n",
        "        shell_output = !gcloud auth list 2>/dev/null\n",
        "        SERVICE_ACCOUNT = shell_output[2].replace(\"*\", \"\").strip()\n",
        "\n",
        "    else:  # IS_COLAB:\n",
        "        shell_output = ! gcloud projects describe  $PROJECT_ID\n",
        "        project_number = shell_output[-1].split(\":\")[1].strip().replace(\"'\", \"\")\n",
        "        SERVICE_ACCOUNT = f\"{project_number}-compute@developer.gserviceaccount.com\"\n",
        "\n",
        "    print(\"Service Account:\", SERVICE_ACCOUNT)"
      ]
    },
    {
      "cell_type": "markdown",
      "metadata": {
        "id": "set_service_account:pipelines"
      },
      "source": [
        "#### Set service account access for Vertex AI Pipelines\n",
        "\n",
        "Run the following commands to grant your service account access to read and write pipeline artifacts in the bucket that you created in the previous step -- you only need to run these once per service account."
      ]
    },
    {
      "cell_type": "code",
      "execution_count": null,
      "metadata": {
        "id": "Yk_TxMc6cSx5"
      },
      "outputs": [],
      "source": [
        "! gsutil iam ch serviceAccount:{SERVICE_ACCOUNT}:roles/storage.objectCreator $BUCKET_URI\n",
        "! gsutil iam ch serviceAccount:{SERVICE_ACCOUNT}:roles/storage.objectViewer $BUCKET_URI"
      ]
    },
    {
      "cell_type": "markdown",
      "metadata": {
        "id": "setup_vars"
      },
      "source": [
        "# **Importar bibliotecas e definir constantes**"
      ]
    },
    {
      "cell_type": "code",
      "source": [
        "import kfp\n",
        "from typing import NamedTuple\n",
        "from google_cloud_pipeline_components.types import artifact_types\n",
        "import google.cloud.aiplatform as aip\n",
        "from kfp import compiler, dsl\n",
        "from google.cloud import aiplatform\n",
        "from google_cloud_pipeline_components.types import artifact_types\n",
        "from google_cloud_pipeline_components.v1.batch_predict_job import ModelBatchPredictOp as batch_prediction_op\n",
        "from google_cloud_pipeline_components.v1.model import ModelUploadOp as model_upload_op\n",
        "from kfp.dsl import importer_node,Input, Metrics, Output,component"
      ],
      "metadata": {
        "id": "x3LTpdrN2FVR"
      },
      "execution_count": null,
      "outputs": []
    },
    {
      "cell_type": "markdown",
      "metadata": {
        "id": "init_aip:mbsdk"
      },
      "source": [
        "### Initialize Vertex AI SDK for Python\n",
        "\n",
        "Initialize the Vertex AI SDK for Python for your project and corresponding bucket."
      ]
    },
    {
      "cell_type": "code",
      "execution_count": null,
      "metadata": {
        "id": "m3atE5jVBfcE"
      },
      "outputs": [],
      "source": [
        "aiplatform.init(project=PROJECT_ID, staging_bucket=BUCKET_URI, location=REGION)"
      ]
    },
    {
      "cell_type": "markdown",
      "source": [
        "# **Configurar Componentes e Pipeline**"
      ],
      "metadata": {
        "id": "GDw34o297RBg"
      }
    },
    {
      "cell_type": "code",
      "source": [
        "#Criação de componente batch_prediction_job\n",
        "\n",
        "@component(\n",
        "  packages_to_install=[\"google-cloud-aiplatform\",\"kfp\",\"google-cloud-storage\"],\n",
        "  base_image=\"python:3.9\",\n",
        "  output_component_file=\"batch_prediction_job.yaml\"\n",
        ")\n",
        "def batch_prediction_job(\n",
        "    project: str,\n",
        "    location: str,\n",
        "    model_resource_name: str,\n",
        "    job_display_name: str,\n",
        "    gcs_source: str,\n",
        "    gcs_destination: str,\n",
        "    machine_type: str,\n",
        "    starting_replica_count: int = 1,\n",
        "    max_replica_count: int = 1\n",
        "):\n",
        "\n",
        "    from google.cloud import aiplatform\n",
        "\n",
        "    aiplatform.init(project=project, location=location)\n",
        "\n",
        "    model = aiplatform.Model(model_resource_name)\n",
        "\n",
        "    batch_prediction_job = model.batch_predict(\n",
        "        job_display_name=job_display_name,\n",
        "        instances_format='jsonl', #json\n",
        "        gcs_source=gcs_source,\n",
        "        gcs_destination_prefix=gcs_destination,\n",
        "        machine_type=machine_type, # must be present\n",
        "    )\n",
        "    batch_prediction_job.wait()\n",
        "    print(batch_prediction_job.display_name)\n",
        "    print(batch_prediction_job.state)\n",
        "\n"
      ],
      "metadata": {
        "id": "OSqX-nOtEw5m"
      },
      "execution_count": null,
      "outputs": []
    },
    {
      "cell_type": "code",
      "source": [
        "# Define variables\n",
        "PIPELINE_ROOT = \"{}/pipeline_root/wine-custom-model-pipe\".format(BUCKET_URI)\n",
        "\n",
        "MODEL_DISPLAY_NAME = f\"wine-custom-{UUID}\"\n",
        "BATCH_PREDICTION_DISPLAY_NAME = f\"wine-batch-prediction-on-pipelines-model-{UUID}\"\n",
        "\n",
        "# Get model id\n",
        "MODEL_NAME=\"demo-mlops-custom-image\"\n",
        "MODEL_ID=!(gcloud ai models list --region=$REGION --filter=display_name=$MODEL_NAME)\n",
        "MODEL_ID=MODEL_ID[2].split(\" \")[0]\n",
        "\n",
        "model_resource_name = f'projects/{PROJECT_ID}/locations/{REGION}/models/{MODEL_ID}'\n",
        "\n",
        "GCS_SOURCE= f\"{BUCKET_URI}/input/instances.jsonl\"\n",
        "gcs_destination_prefix=f\"{BUCKET_URI}/output\"\n",
        "\n",
        "# Create working dir\n",
        "WORKING_DIR = f\"{PIPELINE_ROOT}/{UUID}\"\n",
        "\n",
        "machine_type=\"n1-standard-2\"\n",
        "\n",
        "MODEL_ID"
      ],
      "metadata": {
        "id": "xxH10EAQW42I"
      },
      "execution_count": null,
      "outputs": []
    },
    {
      "cell_type": "code",
      "execution_count": null,
      "metadata": {
        "id": "NvTkSfOeBfcF"
      },
      "outputs": [],
      "source": [
        "@dsl.pipeline(\n",
        "  # Default pipeline root. You can override it when submitting the pipeline.\n",
        "  pipeline_root=PIPELINE_ROOT,\n",
        "  # A name for the pipeline. Use to determine the pipeline Context.\n",
        "  name=\"demo-vertex-pipelines-custom-model\",\n",
        ")\n",
        "def pipeline(\n",
        "    project: str,\n",
        "    region: str,\n",
        "    model_display_name: str,\n",
        "    job_display_name: str,\n",
        "    batch_prediction_display_name: str,\n",
        "    gcs_destination_prefix: str,\n",
        "    gcs_source: str,\n",
        "    machine_type: str,\n",
        "    model_id:str,\n",
        "):\n",
        "    import kfp\n",
        "    from typing import NamedTuple\n",
        "    from google_cloud_pipeline_components.types import artifact_types\n",
        "    import google.cloud.aiplatform as aip\n",
        "    from kfp import compiler, dsl\n",
        "    from kfp.dsl import component\n",
        "    from google.cloud import aiplatform\n",
        "    from google_cloud_pipeline_components.types import artifact_types\n",
        "    from google_cloud_pipeline_components.v1.batch_predict_job import ModelBatchPredictOp as batch_prediction_op\n",
        "    from google_cloud_pipeline_components.v1.model import ModelUploadOp as model_upload_op\n",
        "    from kfp.dsl import importer_node,Input, Metrics, component\n",
        "\n",
        "    model_resource_name = f'projects/{project}/locations/{region}/models/{model_id}'\n",
        "\n",
        "    task = batch_prediction_job(\n",
        "        project=project,\n",
        "        location=region,\n",
        "        model_resource_name=model_resource_name,\n",
        "        job_display_name=job_display_name,\n",
        "        gcs_source=gcs_source,\n",
        "        gcs_destination=gcs_destination_prefix,\n",
        "        machine_type=machine_type)\n"
      ]
    },
    {
      "cell_type": "markdown",
      "metadata": {
        "id": "compile_pipeline"
      },
      "source": [
        "# **Compilar Pipeline**"
      ]
    },
    {
      "cell_type": "code",
      "execution_count": null,
      "metadata": {
        "id": "N7kt8MqfBfcG"
      },
      "outputs": [],
      "source": [
        "compiler.Compiler().compile(\n",
        "    pipeline_func=pipeline,\n",
        "    package_path=\"demo-vertex-pipelines-custom-model.json\",\n",
        ")"
      ]
    },
    {
      "cell_type": "markdown",
      "metadata": {
        "id": "run_pipeline:custom"
      },
      "source": [
        "# **Executar Pipeline**\n"
      ]
    },
    {
      "cell_type": "code",
      "execution_count": null,
      "metadata": {
        "id": "u5s7gMoABfcG"
      },
      "outputs": [],
      "source": [
        "\n",
        "job = aiplatform.PipelineJob(\n",
        "    display_name=MODEL_DISPLAY_NAME,\n",
        "    template_path=\"wine-custom-model-pipe.json\",\n",
        "    pipeline_root=PIPELINE_ROOT,\n",
        "    parameter_values={\"project\": PROJECT_ID,\n",
        "                      \"region\": REGION,\n",
        "                      \"model_display_name\":MODEL_DISPLAY_NAME,\n",
        "                      \"job_display_name\":BATCH_PREDICTION_DISPLAY_NAME,\n",
        "                      \"batch_prediction_display_name\":BATCH_PREDICTION_DISPLAY_NAME,\n",
        "                      \"gcs_destination_prefix\":gcs_destination_prefix,\n",
        "                      \"gcs_source\":GCS_SOURCE,\n",
        "                      \"machine_type\": \"n1-standard-2\",\n",
        "                      \"model_id\":MODEL_ID},\n",
        "    enable_caching=True,\n",
        ")\n",
        "\n",
        "job.run()\n"
      ]
    }
  ],
  "metadata": {
    "colab": {
      "provenance": []
    },
    "kernelspec": {
      "display_name": "Python 3",
      "name": "python3"
    }
  },
  "nbformat": 4,
  "nbformat_minor": 0
}